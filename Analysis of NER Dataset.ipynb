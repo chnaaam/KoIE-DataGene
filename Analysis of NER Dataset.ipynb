{
 "cells": [
  {
   "cell_type": "code",
   "execution_count": 1,
   "metadata": {},
   "outputs": [],
   "source": [
    "import os\n",
    "import pickle"
   ]
  },
  {
   "cell_type": "code",
   "execution_count": 16,
   "metadata": {},
   "outputs": [],
   "source": [
    "CACHE_PATH = \"./cache\"\n",
    "\n",
    "TRAIN_CACHE_FN = \"srl-train-data.cache\"\n",
    "VALID_CACHE_FN = \"srl-valid-data.cache\"\n",
    "TEST_CACHE_FN = \"srl-test-data.cache\"\n",
    "\n",
    "LABEL_FN = \"./vocab/srl.label\"\n",
    "\n",
    "PREDICATE_BEGIN_TOKEN = \"<PREDICATE>\"\n",
    "PREDICATE_END_TOKEN = \"</PREDICATE>\"\n",
    "\n",
    "MAX_SEQ_LEN = 256"
   ]
  },
  {
   "cell_type": "code",
   "execution_count": 17,
   "metadata": {},
   "outputs": [],
   "source": [
    "with open(LABEL_FN, \"rb\") as fp:\n",
    "    data = pickle.load(fp)"
   ]
  },
  {
   "cell_type": "code",
   "execution_count": 18,
   "metadata": {},
   "outputs": [
    {
     "name": "stdout",
     "output_type": "stream",
     "text": [
      "Length of labels 18\n",
      "Label List :  ['ARGA', 'ARGMINS', 'ARGMDIS', 'ARG3', 'ARG1', 'ARGMAUX', 'ARGMCAU', 'ARGMPRD', 'ARG2', 'ARGMNEG', 'ARGMCND', 'ARG0', 'ARGMADV', 'ARGMLOC', 'ARGMTMP', 'ARGMDIR', 'ARGMMNR', 'ARGMEXT']\n"
     ]
    }
   ],
   "source": [
    "labels = []\n",
    "\n",
    "for key, _ in data[\"l2i\"].items():\n",
    "    if \"-\" in key:\n",
    "        label = \"\".join(key.split(\"-\")[1:])\n",
    "\n",
    "        labels.append(label)\n",
    "    \n",
    "labels = list(set(labels))\n",
    "\n",
    "print(\"Length of labels\", len(labels))\n",
    "print(\"Label List : \", labels)"
   ]
  },
  {
   "cell_type": "code",
   "execution_count": 25,
   "metadata": {},
   "outputs": [
    {
     "name": "stdout",
     "output_type": "stream",
     "text": [
      "Current file : srl-train-data.cache\n",
      "Length of tokens :  308802\n",
      "Max Length :  243\n",
      "Min Length :  4\n",
      "Average Length :  41.63225626777029\n",
      "Over 200 length :  3\n",
      "Frequency of Each Labels :  {'O': 10172146, 'ARGMTMP': 93515, 'ARG0': 543075, 'ARGMEXT': 21831, 'ARG1': 1514440, 'ARG2': 234414, 'ARGMLOC': 47291, 'ARG3': 48332, 'ARGMNEG': 16099, 'ARGMAUX': 45685, 'ARGMCND': 23212, 'ARGMMNR': 34637, 'ARGMADV': 12412, 'ARGMCAU': 33251, 'ARGMDIS': 3411, 'ARGA': 4234, 'ARGMDIR': 397, 'ARGMINS': 7696, 'ARGMPRD': 46}\n",
      "\n",
      "Current file : srl-valid-data.cache\n",
      "Length of tokens :  38568\n",
      "Max Length :  172\n",
      "Min Length :  5\n",
      "Average Length :  41.64491288114499\n",
      "Over 200 length :  0\n",
      "Frequency of Each Labels :  {'O': 1271444, 'ARG1': 188310, 'ARGMTMP': 11782, 'ARGMMNR': 4270, 'ARG0': 68374, 'ARGA': 562, 'ARG2': 29165, 'ARG3': 6234, 'ARGMEXT': 2621, 'ARGMAUX': 5798, 'ARGMADV': 1537, 'ARGMLOC': 5575, 'ARGMNEG': 2071, 'ARGMINS': 874, 'ARGMCAU': 3987, 'ARGMCND': 3065, 'ARGMDIS': 422, 'ARGMDIR': 70}\n",
      "\n",
      "Current file : srl-test-data.cache\n",
      "Length of tokens :  38605\n",
      "Max Length :  243\n",
      "Min Length :  5\n",
      "Average Length :  41.6310063463282\n",
      "Over 200 length :  1\n",
      "Frequency of Each Labels :  {'ARGMTMP': 11485, 'ARGMLOC': 6049, 'ARG1': 188577, 'O': 1272622, 'ARGMEXT': 2610, 'ARG0': 67289, 'ARGMMNR': 4317, 'ARGMCND': 2904, 'ARG2': 29786, 'ARGMAUX': 5840, 'ARGMCAU': 4007, 'ARG3': 6246, 'ARGMNEG': 2032, 'ARGMDIR': 44, 'ARGMADV': 1598, 'ARGMINS': 878, 'ARGMDIS': 432, 'ARGA': 438, 'ARGMPRD': 11}\n",
      "\n"
     ]
    }
   ],
   "source": [
    "\n",
    "\n",
    "for cache_fn in [TRAIN_CACHE_FN, VALID_CACHE_FN, TEST_CACHE_FN]:\n",
    "    \n",
    "    print(\"Current file : \" + cache_fn)\n",
    "    \n",
    "    with open(os.path.join(CACHE_PATH, cache_fn), \"rb\") as fp:\n",
    "        data = pickle.load(fp)\n",
    "\n",
    "    tokens, labels = data[\"tokens\"], data[\"labels\"]\n",
    "    \n",
    "    print(\"Length of tokens : \", len(tokens))\n",
    "    exceed_seq_len = 0\n",
    "    max_seq_len = 0\n",
    "    min_seq_len = 10000\n",
    "    seq_len_buffer = []\n",
    "\n",
    "    for token in tokens:\n",
    "        if len(token) > MAX_SEQ_LEN:\n",
    "            exceed_seq_len += 1\n",
    "\n",
    "        if len(token) > max_seq_len:\n",
    "            max_seq_len = len(token)\n",
    "\n",
    "        if len(token) < min_seq_len:\n",
    "            min_seq_len = len(token)\n",
    "\n",
    "        seq_len_buffer.append(len(token))\n",
    "\n",
    "\n",
    "    print(\"Max Length : \", max_seq_len)\n",
    "    print(\"Min Length : \", min_seq_len)\n",
    "    print(\"Average Length : \", sum(seq_len_buffer) / len(seq_len_buffer))\n",
    "    \n",
    "    over_200 = 0\n",
    "\n",
    "    for token in tokens:\n",
    "        if len(token) > 200:\n",
    "            over_200 += 1\n",
    "\n",
    "    print(\"Over 200 length : \", over_200)\n",
    "    \n",
    "    \n",
    "    label_dict = {}\n",
    "    \n",
    "    for label in labels:\n",
    "        for l in label:\n",
    "            if \"-\" in l:\n",
    "                l = \"\".join(l.split(\"-\")[1:])\n",
    "\n",
    "            if l not in label_dict:\n",
    "                label_dict.setdefault(l, 0)\n",
    "\n",
    "            label_dict[l] += 1\n",
    "            \n",
    "    print(\"Frequency of Each Labels : \", label_dict)\n",
    "    print()"
   ]
  },
  {
   "cell_type": "code",
   "execution_count": null,
   "metadata": {},
   "outputs": [],
   "source": []
  },
  {
   "cell_type": "code",
   "execution_count": null,
   "metadata": {},
   "outputs": [],
   "source": []
  }
 ],
 "metadata": {
  "kernelspec": {
   "display_name": "Python 3",
   "language": "python",
   "name": "python3"
  },
  "language_info": {
   "codemirror_mode": {
    "name": "ipython",
    "version": 3
   },
   "file_extension": ".py",
   "mimetype": "text/x-python",
   "name": "python",
   "nbconvert_exporter": "python",
   "pygments_lexer": "ipython3",
   "version": "3.8.3"
  }
 },
 "nbformat": 4,
 "nbformat_minor": 4
}
