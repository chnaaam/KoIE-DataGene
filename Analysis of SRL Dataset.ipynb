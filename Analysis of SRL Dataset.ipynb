{
 "cells": [
  {
   "cell_type": "code",
   "execution_count": 1,
   "metadata": {},
   "outputs": [],
   "source": [
    "import os\n",
    "import pickle"
   ]
  },
  {
   "cell_type": "code",
   "execution_count": 2,
   "metadata": {},
   "outputs": [],
   "source": [
    "CACHE_PATH = \"./cache\"\n",
    "\n",
    "TRAIN_CACHE_FN = \"srl-train-data.cache\"\n",
    "VALID_CACHE_FN = \"srl-valid-data.cache\"\n",
    "TEST_CACHE_FN = \"srl-test-data.cache\"\n",
    "\n",
    "PREDICATE_BEGIN_TOKEN = \"<PREDICATE>\"\n",
    "PREDICATE_END_TOKEN = \"</PREDICATE>\"\n",
    "\n",
    "MAX_SEQ_LEN = 256"
   ]
  },
  {
   "cell_type": "code",
   "execution_count": 3,
   "metadata": {},
   "outputs": [
    {
     "name": "stdout",
     "output_type": "stream",
     "text": [
      "Current file : srl-train-data.cache\n",
      "Length of tokens :  308802\n",
      "Max Length :  243\n",
      "Min Length :  4\n",
      "Average Length :  41.63225626777029\n",
      "Over 200 length :  3\n",
      "\n",
      "Current file : srl-valid-data.cache\n",
      "Length of tokens :  38568\n",
      "Max Length :  172\n",
      "Min Length :  5\n",
      "Average Length :  41.64491288114499\n",
      "Over 200 length :  0\n",
      "\n",
      "Current file : srl-test-data.cache\n",
      "Length of tokens :  38605\n",
      "Max Length :  243\n",
      "Min Length :  5\n",
      "Average Length :  41.6310063463282\n",
      "Over 200 length :  1\n",
      "\n"
     ]
    }
   ],
   "source": [
    "for cache_fn in [TRAIN_CACHE_FN, VALID_CACHE_FN, TEST_CACHE_FN]:\n",
    "    \n",
    "    print(\"Current file : \" + cache_fn)\n",
    "    \n",
    "    with open(os.path.join(CACHE_PATH, cache_fn), \"rb\") as fp:\n",
    "        data = pickle.load(fp)\n",
    "\n",
    "    tokens, labels = data[\"tokens\"], data[\"labels\"]\n",
    "    \n",
    "    print(\"Length of tokens : \", len(tokens))\n",
    "    exceed_seq_len = 0\n",
    "    max_seq_len = 0\n",
    "    min_seq_len = 10000\n",
    "    seq_len_buffer = []\n",
    "\n",
    "    for token in tokens:\n",
    "        if len(token) > MAX_SEQ_LEN:\n",
    "            exceed_seq_len += 1\n",
    "\n",
    "        if len(token) > max_seq_len:\n",
    "            max_seq_len = len(token)\n",
    "\n",
    "        if len(token) < min_seq_len:\n",
    "            min_seq_len = len(token)\n",
    "\n",
    "        seq_len_buffer.append(len(token))\n",
    "\n",
    "\n",
    "    print(\"Max Length : \", max_seq_len)\n",
    "    print(\"Min Length : \", min_seq_len)\n",
    "    print(\"Average Length : \", sum(seq_len_buffer) / len(seq_len_buffer))\n",
    "    \n",
    "    over_200 = 0\n",
    "\n",
    "    for token in tokens:\n",
    "        if len(token) > 200:\n",
    "            over_200 += 1\n",
    "\n",
    "    print(\"Over 200 length : \", over_200)\n",
    "    \n",
    "    print()"
   ]
  }
 ],
 "metadata": {
  "kernelspec": {
   "display_name": "Python 3",
   "language": "python",
   "name": "python3"
  },
  "language_info": {
   "codemirror_mode": {
    "name": "ipython",
    "version": 3
   },
   "file_extension": ".py",
   "mimetype": "text/x-python",
   "name": "python",
   "nbconvert_exporter": "python",
   "pygments_lexer": "ipython3",
   "version": "3.8.3"
  }
 },
 "nbformat": 4,
 "nbformat_minor": 4
}
